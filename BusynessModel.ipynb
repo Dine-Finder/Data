{
 "cells": [
  {
   "cell_type": "code",
   "execution_count": 1,
   "id": "7e8f53c8-04cf-4fb4-8eea-b102f1ac8d05",
   "metadata": {},
   "outputs": [],
   "source": [
    "# Import necessary libraries\n",
    "import pandas as pd\n",
    "import numpy as np\n",
    "import matplotlib.pyplot as plt\n",
    "import seaborn as sns\n",
    "from scipy import stats\n",
    "from sklearn.model_selection import train_test_split\n",
    "from sklearn.ensemble import RandomForestRegressor\n",
    "from sklearn.metrics import mean_absolute_error, mean_squared_error, r2_score"
   ]
  },
  {
   "cell_type": "markdown",
   "id": "e428dd05-5fa4-4c3c-92a1-54b941834063",
   "metadata": {},
   "source": [
    "## Read taxi data"
   ]
  },
  {
   "cell_type": "code",
   "execution_count": 2,
   "id": "e67a9e81-2418-4976-b017-9538ad189290",
   "metadata": {},
   "outputs": [],
   "source": [
    "# Read Data\n",
    "taxi_data = pd.read_csv('taxi_data.csv')"
   ]
  },
  {
   "cell_type": "code",
   "execution_count": 3,
   "id": "20a1fd12-498a-497b-ba38-2741aadf771a",
   "metadata": {},
   "outputs": [
    {
     "data": {
      "text/plain": [
       "Index(['VendorID', 'tpep_pickup_datetime', 'tpep_dropoff_datetime',\n",
       "       'passenger_count', 'trip_distance', 'RatecodeID', 'PULocationID',\n",
       "       'DOLocationID', 'payment_type', 'fare_amount', 'extra', 'mta_tax',\n",
       "       'tip_amount', 'tolls_amount', 'improvement_surcharge', 'total_amount',\n",
       "       'congestion_surcharge'],\n",
       "      dtype='object')"
      ]
     },
     "execution_count": 3,
     "metadata": {},
     "output_type": "execute_result"
    }
   ],
   "source": [
    "# Check which columns are there\n",
    "taxi_data.columns"
   ]
  },
  {
   "cell_type": "code",
   "execution_count": 4,
   "id": "df5b73af-53b9-49b9-a919-bfed6de27ee9",
   "metadata": {},
   "outputs": [],
   "source": [
    "# Keep the required columns\n",
    "taxi_data = taxi_data[['tpep_pickup_datetime', 'tpep_dropoff_datetime', 'PULocationID', 'DOLocationID', 'passenger_count', 'trip_distance']]"
   ]
  },
  {
   "cell_type": "code",
   "execution_count": 5,
   "id": "abc7f565-831a-4b9a-9f9b-25e036dc3005",
   "metadata": {},
   "outputs": [
    {
     "data": {
      "text/html": [
       "<div>\n",
       "<style scoped>\n",
       "    .dataframe tbody tr th:only-of-type {\n",
       "        vertical-align: middle;\n",
       "    }\n",
       "\n",
       "    .dataframe tbody tr th {\n",
       "        vertical-align: top;\n",
       "    }\n",
       "\n",
       "    .dataframe thead th {\n",
       "        text-align: right;\n",
       "    }\n",
       "</style>\n",
       "<table border=\"1\" class=\"dataframe\">\n",
       "  <thead>\n",
       "    <tr style=\"text-align: right;\">\n",
       "      <th></th>\n",
       "      <th>tpep_pickup_datetime</th>\n",
       "      <th>tpep_dropoff_datetime</th>\n",
       "      <th>PULocationID</th>\n",
       "      <th>DOLocationID</th>\n",
       "      <th>passenger_count</th>\n",
       "      <th>trip_distance</th>\n",
       "    </tr>\n",
       "  </thead>\n",
       "  <tbody>\n",
       "    <tr>\n",
       "      <th>0</th>\n",
       "      <td>01/01/2020 12:28:15 AM</td>\n",
       "      <td>01/01/2020 12:33:03 AM</td>\n",
       "      <td>238</td>\n",
       "      <td>239</td>\n",
       "      <td>1.0</td>\n",
       "      <td>1.2</td>\n",
       "    </tr>\n",
       "    <tr>\n",
       "      <th>1</th>\n",
       "      <td>01/01/2020 12:35:39 AM</td>\n",
       "      <td>01/01/2020 12:43:04 AM</td>\n",
       "      <td>239</td>\n",
       "      <td>238</td>\n",
       "      <td>1.0</td>\n",
       "      <td>1.2</td>\n",
       "    </tr>\n",
       "    <tr>\n",
       "      <th>2</th>\n",
       "      <td>01/01/2020 12:47:41 AM</td>\n",
       "      <td>01/01/2020 12:53:52 AM</td>\n",
       "      <td>238</td>\n",
       "      <td>238</td>\n",
       "      <td>1.0</td>\n",
       "      <td>0.6</td>\n",
       "    </tr>\n",
       "    <tr>\n",
       "      <th>3</th>\n",
       "      <td>01/01/2020 12:55:23 AM</td>\n",
       "      <td>01/01/2020 01:00:14 AM</td>\n",
       "      <td>238</td>\n",
       "      <td>151</td>\n",
       "      <td>1.0</td>\n",
       "      <td>0.8</td>\n",
       "    </tr>\n",
       "    <tr>\n",
       "      <th>4</th>\n",
       "      <td>01/01/2020 12:01:58 AM</td>\n",
       "      <td>01/01/2020 12:04:16 AM</td>\n",
       "      <td>193</td>\n",
       "      <td>193</td>\n",
       "      <td>1.0</td>\n",
       "      <td>0.0</td>\n",
       "    </tr>\n",
       "  </tbody>\n",
       "</table>\n",
       "</div>"
      ],
      "text/plain": [
       "     tpep_pickup_datetime   tpep_dropoff_datetime  PULocationID  DOLocationID  \\\n",
       "0  01/01/2020 12:28:15 AM  01/01/2020 12:33:03 AM           238           239   \n",
       "1  01/01/2020 12:35:39 AM  01/01/2020 12:43:04 AM           239           238   \n",
       "2  01/01/2020 12:47:41 AM  01/01/2020 12:53:52 AM           238           238   \n",
       "3  01/01/2020 12:55:23 AM  01/01/2020 01:00:14 AM           238           151   \n",
       "4  01/01/2020 12:01:58 AM  01/01/2020 12:04:16 AM           193           193   \n",
       "\n",
       "   passenger_count  trip_distance  \n",
       "0              1.0            1.2  \n",
       "1              1.0            1.2  \n",
       "2              1.0            0.6  \n",
       "3              1.0            0.8  \n",
       "4              1.0            0.0  "
      ]
     },
     "execution_count": 5,
     "metadata": {},
     "output_type": "execute_result"
    }
   ],
   "source": [
    "taxi_data.head()"
   ]
  },
  {
   "cell_type": "markdown",
   "id": "7c4c4349-82b6-415b-8006-6ef654a971ca",
   "metadata": {},
   "source": [
    "## Check null and duplicate data"
   ]
  },
  {
   "cell_type": "code",
   "execution_count": 6,
   "id": "453e242e-386c-4ac8-9c5c-f1503e19ce15",
   "metadata": {},
   "outputs": [
    {
     "data": {
      "text/html": [
       "<div>\n",
       "<style scoped>\n",
       "    .dataframe tbody tr th:only-of-type {\n",
       "        vertical-align: middle;\n",
       "    }\n",
       "\n",
       "    .dataframe tbody tr th {\n",
       "        vertical-align: top;\n",
       "    }\n",
       "\n",
       "    .dataframe thead th {\n",
       "        text-align: right;\n",
       "    }\n",
       "</style>\n",
       "<table border=\"1\" class=\"dataframe\">\n",
       "  <thead>\n",
       "    <tr style=\"text-align: right;\">\n",
       "      <th></th>\n",
       "      <th>tpep_pickup_datetime</th>\n",
       "      <th>tpep_dropoff_datetime</th>\n",
       "      <th>PULocationID</th>\n",
       "      <th>DOLocationID</th>\n",
       "      <th>passenger_count</th>\n",
       "      <th>trip_distance</th>\n",
       "    </tr>\n",
       "  </thead>\n",
       "  <tbody>\n",
       "    <tr>\n",
       "      <th>18801</th>\n",
       "      <td>07/04/2020 09:22:00 PM</td>\n",
       "      <td>07/04/2020 09:37:00 PM</td>\n",
       "      <td>116</td>\n",
       "      <td>74</td>\n",
       "      <td>NaN</td>\n",
       "      <td>3.03</td>\n",
       "    </tr>\n",
       "    <tr>\n",
       "      <th>19120</th>\n",
       "      <td>07/04/2020 09:06:00 PM</td>\n",
       "      <td>07/04/2020 09:09:00 PM</td>\n",
       "      <td>48</td>\n",
       "      <td>48</td>\n",
       "      <td>NaN</td>\n",
       "      <td>1.00</td>\n",
       "    </tr>\n",
       "    <tr>\n",
       "      <th>19668</th>\n",
       "      <td>07/04/2020 09:54:00 PM</td>\n",
       "      <td>07/04/2020 10:07:00 PM</td>\n",
       "      <td>137</td>\n",
       "      <td>145</td>\n",
       "      <td>NaN</td>\n",
       "      <td>2.62</td>\n",
       "    </tr>\n",
       "    <tr>\n",
       "      <th>19759</th>\n",
       "      <td>07/04/2020 09:37:00 PM</td>\n",
       "      <td>07/04/2020 10:04:00 PM</td>\n",
       "      <td>231</td>\n",
       "      <td>36</td>\n",
       "      <td>NaN</td>\n",
       "      <td>6.61</td>\n",
       "    </tr>\n",
       "    <tr>\n",
       "      <th>19897</th>\n",
       "      <td>07/04/2020 09:11:00 PM</td>\n",
       "      <td>07/04/2020 09:23:00 PM</td>\n",
       "      <td>208</td>\n",
       "      <td>147</td>\n",
       "      <td>NaN</td>\n",
       "      <td>4.75</td>\n",
       "    </tr>\n",
       "    <tr>\n",
       "      <th>...</th>\n",
       "      <td>...</td>\n",
       "      <td>...</td>\n",
       "      <td>...</td>\n",
       "      <td>...</td>\n",
       "      <td>...</td>\n",
       "      <td>...</td>\n",
       "    </tr>\n",
       "    <tr>\n",
       "      <th>24648494</th>\n",
       "      <td>12/31/2020 11:44:35 PM</td>\n",
       "      <td>01/01/2021 12:01:22 AM</td>\n",
       "      <td>143</td>\n",
       "      <td>20</td>\n",
       "      <td>NaN</td>\n",
       "      <td>9.22</td>\n",
       "    </tr>\n",
       "    <tr>\n",
       "      <th>24648495</th>\n",
       "      <td>12/31/2020 11:41:36 PM</td>\n",
       "      <td>12/31/2020 11:50:32 PM</td>\n",
       "      <td>4</td>\n",
       "      <td>262</td>\n",
       "      <td>NaN</td>\n",
       "      <td>4.79</td>\n",
       "    </tr>\n",
       "    <tr>\n",
       "      <th>24648496</th>\n",
       "      <td>12/31/2020 11:01:17 PM</td>\n",
       "      <td>12/31/2020 11:40:37 PM</td>\n",
       "      <td>210</td>\n",
       "      <td>78</td>\n",
       "      <td>NaN</td>\n",
       "      <td>28.00</td>\n",
       "    </tr>\n",
       "    <tr>\n",
       "      <th>24648497</th>\n",
       "      <td>12/31/2020 11:31:29 PM</td>\n",
       "      <td>12/31/2020 11:44:22 PM</td>\n",
       "      <td>148</td>\n",
       "      <td>129</td>\n",
       "      <td>NaN</td>\n",
       "      <td>7.08</td>\n",
       "    </tr>\n",
       "    <tr>\n",
       "      <th>24648498</th>\n",
       "      <td>12/31/2020 11:12:48 PM</td>\n",
       "      <td>12/31/2020 11:24:51 PM</td>\n",
       "      <td>18</td>\n",
       "      <td>235</td>\n",
       "      <td>NaN</td>\n",
       "      <td>2.35</td>\n",
       "    </tr>\n",
       "  </tbody>\n",
       "</table>\n",
       "<p>809568 rows × 6 columns</p>\n",
       "</div>"
      ],
      "text/plain": [
       "            tpep_pickup_datetime   tpep_dropoff_datetime  PULocationID  \\\n",
       "18801     07/04/2020 09:22:00 PM  07/04/2020 09:37:00 PM           116   \n",
       "19120     07/04/2020 09:06:00 PM  07/04/2020 09:09:00 PM            48   \n",
       "19668     07/04/2020 09:54:00 PM  07/04/2020 10:07:00 PM           137   \n",
       "19759     07/04/2020 09:37:00 PM  07/04/2020 10:04:00 PM           231   \n",
       "19897     07/04/2020 09:11:00 PM  07/04/2020 09:23:00 PM           208   \n",
       "...                          ...                     ...           ...   \n",
       "24648494  12/31/2020 11:44:35 PM  01/01/2021 12:01:22 AM           143   \n",
       "24648495  12/31/2020 11:41:36 PM  12/31/2020 11:50:32 PM             4   \n",
       "24648496  12/31/2020 11:01:17 PM  12/31/2020 11:40:37 PM           210   \n",
       "24648497  12/31/2020 11:31:29 PM  12/31/2020 11:44:22 PM           148   \n",
       "24648498  12/31/2020 11:12:48 PM  12/31/2020 11:24:51 PM            18   \n",
       "\n",
       "          DOLocationID  passenger_count  trip_distance  \n",
       "18801               74              NaN           3.03  \n",
       "19120               48              NaN           1.00  \n",
       "19668              145              NaN           2.62  \n",
       "19759               36              NaN           6.61  \n",
       "19897              147              NaN           4.75  \n",
       "...                ...              ...            ...  \n",
       "24648494            20              NaN           9.22  \n",
       "24648495           262              NaN           4.79  \n",
       "24648496            78              NaN          28.00  \n",
       "24648497           129              NaN           7.08  \n",
       "24648498           235              NaN           2.35  \n",
       "\n",
       "[809568 rows x 6 columns]"
      ]
     },
     "execution_count": 6,
     "metadata": {},
     "output_type": "execute_result"
    }
   ],
   "source": [
    "# check if there is any null value\n",
    "taxi_data[taxi_data.isnull().values==True]"
   ]
  },
  {
   "cell_type": "code",
   "execution_count": 7,
   "id": "c1747553-ac74-44c5-9b21-6f7d3126ea23",
   "metadata": {},
   "outputs": [],
   "source": [
    "# drop null value\n",
    "taxi_data.dropna(inplace=True)"
   ]
  },
  {
   "cell_type": "code",
   "execution_count": 8,
   "id": "2728c87b-6fcb-4b44-89c0-e37d4340e856",
   "metadata": {},
   "outputs": [
    {
     "data": {
      "text/html": [
       "<div>\n",
       "<style scoped>\n",
       "    .dataframe tbody tr th:only-of-type {\n",
       "        vertical-align: middle;\n",
       "    }\n",
       "\n",
       "    .dataframe tbody tr th {\n",
       "        vertical-align: top;\n",
       "    }\n",
       "\n",
       "    .dataframe thead th {\n",
       "        text-align: right;\n",
       "    }\n",
       "</style>\n",
       "<table border=\"1\" class=\"dataframe\">\n",
       "  <thead>\n",
       "    <tr style=\"text-align: right;\">\n",
       "      <th></th>\n",
       "      <th>tpep_pickup_datetime</th>\n",
       "      <th>tpep_dropoff_datetime</th>\n",
       "      <th>PULocationID</th>\n",
       "      <th>DOLocationID</th>\n",
       "      <th>passenger_count</th>\n",
       "      <th>trip_distance</th>\n",
       "    </tr>\n",
       "  </thead>\n",
       "  <tbody>\n",
       "  </tbody>\n",
       "</table>\n",
       "</div>"
      ],
      "text/plain": [
       "Empty DataFrame\n",
       "Columns: [tpep_pickup_datetime, tpep_dropoff_datetime, PULocationID, DOLocationID, passenger_count, trip_distance]\n",
       "Index: []"
      ]
     },
     "execution_count": 8,
     "metadata": {},
     "output_type": "execute_result"
    }
   ],
   "source": [
    "# check if the null rows are already deleted\n",
    "taxi_data[taxi_data.isnull().values==True]"
   ]
  },
  {
   "cell_type": "code",
   "execution_count": 9,
   "id": "a3fdc967-2188-45b7-901a-2a1481abf8bd",
   "metadata": {},
   "outputs": [
    {
     "data": {
      "text/html": [
       "<div>\n",
       "<style scoped>\n",
       "    .dataframe tbody tr th:only-of-type {\n",
       "        vertical-align: middle;\n",
       "    }\n",
       "\n",
       "    .dataframe tbody tr th {\n",
       "        vertical-align: top;\n",
       "    }\n",
       "\n",
       "    .dataframe thead th {\n",
       "        text-align: right;\n",
       "    }\n",
       "</style>\n",
       "<table border=\"1\" class=\"dataframe\">\n",
       "  <thead>\n",
       "    <tr style=\"text-align: right;\">\n",
       "      <th></th>\n",
       "      <th>tpep_pickup_datetime</th>\n",
       "      <th>tpep_dropoff_datetime</th>\n",
       "      <th>PULocationID</th>\n",
       "      <th>DOLocationID</th>\n",
       "      <th>passenger_count</th>\n",
       "      <th>trip_distance</th>\n",
       "    </tr>\n",
       "  </thead>\n",
       "  <tbody>\n",
       "    <tr>\n",
       "      <th>161</th>\n",
       "      <td>01/01/2020 12:54:28 AM</td>\n",
       "      <td>01/01/2020 12:58:41 AM</td>\n",
       "      <td>170</td>\n",
       "      <td>137</td>\n",
       "      <td>1.0</td>\n",
       "      <td>0.60</td>\n",
       "    </tr>\n",
       "    <tr>\n",
       "      <th>162</th>\n",
       "      <td>01/01/2020 12:54:28 AM</td>\n",
       "      <td>01/01/2020 12:58:41 AM</td>\n",
       "      <td>170</td>\n",
       "      <td>137</td>\n",
       "      <td>1.0</td>\n",
       "      <td>0.60</td>\n",
       "    </tr>\n",
       "    <tr>\n",
       "      <th>374</th>\n",
       "      <td>01/01/2020 12:57:13 AM</td>\n",
       "      <td>01/01/2020 12:58:05 AM</td>\n",
       "      <td>260</td>\n",
       "      <td>260</td>\n",
       "      <td>1.0</td>\n",
       "      <td>0.11</td>\n",
       "    </tr>\n",
       "    <tr>\n",
       "      <th>375</th>\n",
       "      <td>01/01/2020 12:57:13 AM</td>\n",
       "      <td>01/01/2020 12:58:05 AM</td>\n",
       "      <td>260</td>\n",
       "      <td>260</td>\n",
       "      <td>1.0</td>\n",
       "      <td>0.11</td>\n",
       "    </tr>\n",
       "    <tr>\n",
       "      <th>671</th>\n",
       "      <td>01/01/2020 12:36:31 AM</td>\n",
       "      <td>01/01/2020 12:37:23 AM</td>\n",
       "      <td>141</td>\n",
       "      <td>141</td>\n",
       "      <td>3.0</td>\n",
       "      <td>0.18</td>\n",
       "    </tr>\n",
       "    <tr>\n",
       "      <th>...</th>\n",
       "      <td>...</td>\n",
       "      <td>...</td>\n",
       "      <td>...</td>\n",
       "      <td>...</td>\n",
       "      <td>...</td>\n",
       "      <td>...</td>\n",
       "    </tr>\n",
       "    <tr>\n",
       "      <th>24549122</th>\n",
       "      <td>12/31/2020 11:39:32 PM</td>\n",
       "      <td>12/31/2020 11:46:22 PM</td>\n",
       "      <td>148</td>\n",
       "      <td>107</td>\n",
       "      <td>1.0</td>\n",
       "      <td>1.54</td>\n",
       "    </tr>\n",
       "    <tr>\n",
       "      <th>24549171</th>\n",
       "      <td>12/31/2020 11:18:23 PM</td>\n",
       "      <td>12/31/2020 11:38:15 PM</td>\n",
       "      <td>230</td>\n",
       "      <td>87</td>\n",
       "      <td>1.0</td>\n",
       "      <td>5.81</td>\n",
       "    </tr>\n",
       "    <tr>\n",
       "      <th>24549172</th>\n",
       "      <td>12/31/2020 11:18:23 PM</td>\n",
       "      <td>12/31/2020 11:38:15 PM</td>\n",
       "      <td>230</td>\n",
       "      <td>87</td>\n",
       "      <td>1.0</td>\n",
       "      <td>5.81</td>\n",
       "    </tr>\n",
       "    <tr>\n",
       "      <th>24549176</th>\n",
       "      <td>12/31/2020 11:14:08 PM</td>\n",
       "      <td>12/31/2020 11:16:05 PM</td>\n",
       "      <td>236</td>\n",
       "      <td>237</td>\n",
       "      <td>1.0</td>\n",
       "      <td>0.49</td>\n",
       "    </tr>\n",
       "    <tr>\n",
       "      <th>24549177</th>\n",
       "      <td>12/31/2020 11:14:08 PM</td>\n",
       "      <td>12/31/2020 11:16:05 PM</td>\n",
       "      <td>236</td>\n",
       "      <td>237</td>\n",
       "      <td>1.0</td>\n",
       "      <td>0.49</td>\n",
       "    </tr>\n",
       "  </tbody>\n",
       "</table>\n",
       "<p>166504 rows × 6 columns</p>\n",
       "</div>"
      ],
      "text/plain": [
       "            tpep_pickup_datetime   tpep_dropoff_datetime  PULocationID  \\\n",
       "161       01/01/2020 12:54:28 AM  01/01/2020 12:58:41 AM           170   \n",
       "162       01/01/2020 12:54:28 AM  01/01/2020 12:58:41 AM           170   \n",
       "374       01/01/2020 12:57:13 AM  01/01/2020 12:58:05 AM           260   \n",
       "375       01/01/2020 12:57:13 AM  01/01/2020 12:58:05 AM           260   \n",
       "671       01/01/2020 12:36:31 AM  01/01/2020 12:37:23 AM           141   \n",
       "...                          ...                     ...           ...   \n",
       "24549122  12/31/2020 11:39:32 PM  12/31/2020 11:46:22 PM           148   \n",
       "24549171  12/31/2020 11:18:23 PM  12/31/2020 11:38:15 PM           230   \n",
       "24549172  12/31/2020 11:18:23 PM  12/31/2020 11:38:15 PM           230   \n",
       "24549176  12/31/2020 11:14:08 PM  12/31/2020 11:16:05 PM           236   \n",
       "24549177  12/31/2020 11:14:08 PM  12/31/2020 11:16:05 PM           236   \n",
       "\n",
       "          DOLocationID  passenger_count  trip_distance  \n",
       "161                137              1.0           0.60  \n",
       "162                137              1.0           0.60  \n",
       "374                260              1.0           0.11  \n",
       "375                260              1.0           0.11  \n",
       "671                141              3.0           0.18  \n",
       "...                ...              ...            ...  \n",
       "24549122           107              1.0           1.54  \n",
       "24549171            87              1.0           5.81  \n",
       "24549172            87              1.0           5.81  \n",
       "24549176           237              1.0           0.49  \n",
       "24549177           237              1.0           0.49  \n",
       "\n",
       "[166504 rows x 6 columns]"
      ]
     },
     "execution_count": 9,
     "metadata": {},
     "output_type": "execute_result"
    }
   ],
   "source": [
    "# check if there is any duplicate value\n",
    "taxi_data[taxi_data.duplicated(keep=False)]"
   ]
  },
  {
   "cell_type": "code",
   "execution_count": 10,
   "id": "707983fd-5af6-4842-bfb8-26027c32c944",
   "metadata": {},
   "outputs": [],
   "source": [
    "# Remove duplicated rows\n",
    "taxi_data.drop_duplicates(inplace=True)"
   ]
  },
  {
   "cell_type": "code",
   "execution_count": 11,
   "id": "1e7a2a43-02ec-490b-9e07-d826425f3727",
   "metadata": {},
   "outputs": [
    {
     "data": {
      "text/plain": [
       "0"
      ]
     },
     "execution_count": 11,
     "metadata": {},
     "output_type": "execute_result"
    }
   ],
   "source": [
    "# Verify the removal\n",
    "taxi_data.duplicated().sum()"
   ]
  },
  {
   "cell_type": "markdown",
   "id": "fce2b71b-8549-4b47-b355-e0b6ecef87dc",
   "metadata": {},
   "source": [
    "## Check for outliers"
   ]
  },
  {
   "cell_type": "code",
   "execution_count": 12,
   "id": "b426f490-0f45-4670-892f-25b8bdebaba5",
   "metadata": {},
   "outputs": [
    {
     "name": "stdout",
     "output_type": "stream",
     "text": [
      "PULocationID\n",
      "237    1132083\n",
      "236    1075664\n",
      "161     937065\n",
      "186     854435\n",
      "162     823331\n",
      "        ...   \n",
      "105         13\n",
      "176         10\n",
      "199          8\n",
      "30           7\n",
      "245          6\n",
      "Name: count, Length: 262, dtype: int64\n",
      "DOLocationID\n",
      "236    1112914\n",
      "237    1004306\n",
      "161     835468\n",
      "170     726958\n",
      "141     677881\n",
      "        ...   \n",
      "99         113\n",
      "2           18\n",
      "105         10\n",
      "104          1\n",
      "199          1\n",
      "Name: count, Length: 263, dtype: int64\n"
     ]
    }
   ],
   "source": [
    "# View the unique values ​​and counts of PULocationID and DOLocationID\n",
    "print(taxi_data['PULocationID'].value_counts())\n",
    "print(taxi_data['DOLocationID'].value_counts())"
   ]
  },
  {
   "cell_type": "code",
   "execution_count": 13,
   "id": "577f5333-944d-4216-b78d-368a15ad2e3a",
   "metadata": {},
   "outputs": [
    {
     "name": "stdout",
     "output_type": "stream",
     "text": [
      "       PULocationID  DOLocationID  passenger_count  trip_distance\n",
      "count  2.375567e+07  2.375567e+07     2.375567e+07   2.375567e+07\n",
      "mean   1.646788e+02  1.620895e+02     1.468194e+00   2.750660e+00\n",
      "std    6.621025e+01  7.061567e+01     1.113282e+00   4.414869e+01\n",
      "min    1.000000e+00  1.000000e+00     0.000000e+00  -2.218000e+01\n",
      "25%    1.250000e+02  1.070000e+02     1.000000e+00   9.700000e-01\n",
      "50%    1.620000e+02  1.620000e+02     1.000000e+00   1.600000e+00\n",
      "75%    2.340000e+02  2.340000e+02     1.000000e+00   2.880000e+00\n",
      "max    2.650000e+02  2.650000e+02     9.000000e+00   1.673295e+05\n"
     ]
    }
   ],
   "source": [
    "# View descriptive statistics\n",
    "print(taxi_data.describe())"
   ]
  },
  {
   "cell_type": "code",
   "execution_count": 14,
   "id": "71021c28-8624-4434-aa5b-ca5d76e7d3bd",
   "metadata": {},
   "outputs": [
    {
     "data": {
      "image/png": "[encoded data removed]",
      "text/plain": [
       "<Figure size 1200x600 with 1 Axes>"
      ]
     },
     "metadata": {},
     "output_type": "display_data"
    }
   ],
   "source": [
    "# Visualize the distribution of PULocationID\n",
    "plt.figure(figsize=(12, 6))\n",
    "sns.histplot(taxi_data['PULocationID'], bins=50)\n",
    "plt.title('Distribution of PULocationID')\n",
    "plt.xlabel('PULocationID')\n",
    "plt.ylabel('Count')\n",
    "plt.show()"
   ]
  },
  {
   "cell_type": "code",
   "execution_count": 15,
   "id": "cdafd822",
   "metadata": {},
   "outputs": [
    {
     "data": {
      "image/png": "[encoded data removed]",
      "text/plain": [
       "<Figure size 1200x600 with 1 Axes>"
      ]
     },
     "metadata": {},
     "output_type": "display_data"
    }
   ],
   "source": [
    "# Visualize the distribution of DOLocationIDD\n",
    "plt.figure(figsize=(12, 6))\n",
    "sns.histplot(taxi_data['DOLocationID'], bins=50)\n",
    "plt.title('Distribution of DOLocationID')\n",
    "plt.xlabel('DOLocationID')\n",
    "plt.ylabel('Count')\n",
    "plt.show()"
   ]
  },
  {
   "cell_type": "code",
   "execution_count": 16,
   "id": "50cc631a-cfb1-4d9c-9387-7ba8065e6927",
   "metadata": {
    "scrolled": true
   },
   "outputs": [
    {
     "data": {
      "image/png": "[encoded data removed]",
      "text/plain": [
       "<Figure size 1200x600 with 1 Axes>"
      ]
     },
     "metadata": {},
     "output_type": "display_data"
    }
   ],
   "source": [
    "plt.figure(figsize=(12, 6))\n",
    "sns.boxplot(data=taxi_data[['passenger_count', 'trip_distance']])\n",
    "plt.title('Box Plot for Passenger Count and Trip Distance')\n",
    "plt.show()"
   ]
  },
  {
   "cell_type": "code",
   "execution_count": 17,
   "id": "7ad3e6ad-22e3-4f10-8ed7-f9a8d66398f7",
   "metadata": {},
   "outputs": [
    {
     "name": "stdout",
     "output_type": "stream",
     "text": [
      "Outliers:  (array([      42,      153,      196, ..., 23755483, 23755518, 23755655]), array([0, 0, 0, ..., 0, 0, 0]))\n"
     ]
    }
   ],
   "source": [
    "z_scores = stats.zscore(taxi_data[['passenger_count', 'trip_distance']])\n",
    "abs_z_scores = np.abs(z_scores)\n",
    "\n",
    "outliers = np.where(abs_z_scores > 3)\n",
    "print(\"Outliers: \", outliers)"
   ]
  },
  {
   "cell_type": "code",
   "execution_count": 18,
   "id": "94ec4fe7-d5c5-43b6-859d-ed91d122e89d",
   "metadata": {},
   "outputs": [
    {
     "name": "stdout",
     "output_type": "stream",
     "text": [
      "       PULocationID  DOLocationID  passenger_count  trip_distance\n",
      "count  2.253196e+07  2.253196e+07     2.253196e+07   2.253196e+07\n",
      "mean   1.647107e+02  1.621046e+02     1.255356e+00   2.729264e+00\n",
      "std    6.619738e+01  7.060803e+01     6.436540e-01   3.504351e+00\n",
      "min    1.000000e+00  1.000000e+00     0.000000e+00  -2.218000e+01\n",
      "25%    1.250000e+02  1.070000e+02     1.000000e+00   9.700000e-01\n",
      "50%    1.620000e+02  1.620000e+02     1.000000e+00   1.600000e+00\n",
      "75%    2.340000e+02  2.340000e+02     1.000000e+00   2.880000e+00\n",
      "max    2.650000e+02  2.650000e+02     4.000000e+00   1.350000e+02\n"
     ]
    }
   ],
   "source": [
    "taxi_data = taxi_data[(abs_z_scores < 3).all(axis=1)]\n",
    "print(taxi_data.describe())"
   ]
  },
  {
   "cell_type": "markdown",
   "id": "77f562e2-5e7e-46da-8532-9bd6fb66b835",
   "metadata": {},
   "source": [
    "## Feature extraction"
   ]
  },
  {
   "cell_type": "code",
   "execution_count": 19,
   "id": "03470002-2b52-4518-b341-5d9d52591ed3",
   "metadata": {},
   "outputs": [
    {
     "data": {
      "text/plain": [
       "tpep_pickup_datetime      object\n",
       "tpep_dropoff_datetime     object\n",
       "PULocationID               int64\n",
       "DOLocationID               int64\n",
       "passenger_count          float64\n",
       "trip_distance            float64\n",
       "dtype: object"
      ]
     },
     "execution_count": 19,
     "metadata": {},
     "output_type": "execute_result"
    }
   ],
   "source": [
    "taxi_data.dtypes"
   ]
  },
  {
   "cell_type": "code",
   "execution_count": 20,
   "id": "93f04773-2b19-4336-acdc-dbc31d82b9c0",
   "metadata": {},
   "outputs": [],
   "source": [
    "# Convert the time column to datetime type\n",
    "taxi_data['tpep_pickup_datetime'] = pd.to_datetime(taxi_data['tpep_pickup_datetime'], format='%m/%d/%Y %I:%M:%S %p')\n",
    "taxi_data['tpep_dropoff_datetime'] = pd.to_datetime(taxi_data['tpep_dropoff_datetime'], format='%m/%d/%Y %I:%M:%S %p')"
   ]
  },
  {
   "cell_type": "code",
   "execution_count": 21,
   "id": "ec9e2fb8-78d9-4dd4-aa55-012129122896",
   "metadata": {},
   "outputs": [
    {
     "data": {
      "text/plain": [
       "tpep_pickup_datetime     datetime64[ns]\n",
       "tpep_dropoff_datetime    datetime64[ns]\n",
       "PULocationID                      int64\n",
       "DOLocationID                      int64\n",
       "passenger_count                 float64\n",
       "trip_distance                   float64\n",
       "dtype: object"
      ]
     },
     "execution_count": 21,
     "metadata": {},
     "output_type": "execute_result"
    }
   ],
   "source": [
    "taxi_data.dtypes"
   ]
  },
  {
   "cell_type": "code",
   "execution_count": 22,
   "id": "5ab78471-0bf1-4b4a-bdda-1d79a5805c84",
   "metadata": {},
   "outputs": [],
   "source": [
    "# Extract pickup time features\n",
    "taxi_data['pickup_hour'] = taxi_data['tpep_pickup_datetime'].dt.hour\n",
    "taxi_data['pickup_minute'] = taxi_data['tpep_pickup_datetime'].dt.minute\n",
    "taxi_data['pickup_weekday'] = taxi_data['tpep_pickup_datetime'].dt.day_name()\n",
    "taxi_data['pickup_month'] = taxi_data['tpep_pickup_datetime'].dt.month"
   ]
  },
  {
   "cell_type": "code",
   "execution_count": 23,
   "id": "e4d9e6d0",
   "metadata": {},
   "outputs": [],
   "source": [
    "# Extract dropoff time features\n",
    "taxi_data['dropoff_hour'] = taxi_data['tpep_dropoff_datetime'].dt.hour\n",
    "taxi_data['dropoff_minute'] = taxi_data['tpep_dropoff_datetime'].dt.minute\n",
    "taxi_data['dropoff_weekday'] = taxi_data['tpep_dropoff_datetime'].dt.day_name()\n",
    "taxi_data['dropoff_month'] = taxi_data['tpep_dropoff_datetime'].dt.month"
   ]
  },
  {
   "cell_type": "code",
   "execution_count": 24,
   "id": "ec2b8751-bfb6-4274-bd06-bc312864e83d",
   "metadata": {},
   "outputs": [],
   "source": [
    "# Calculate the trip duration\n",
    "# taxi_data['trip_duration'] = (taxi_data['tpep_dropoff_datetime'] - taxi_data['tpep_pickup_datetime']).dt.total_seconds() / 60.0.round"
   ]
  },
  {
   "cell_type": "code",
   "execution_count": 25,
   "id": "c4f3f91c-6af6-4df1-a708-291f5375124c",
   "metadata": {},
   "outputs": [
    {
     "data": {
      "text/html": [
       "<div>\n",
       "<style scoped>\n",
       "    .dataframe tbody tr th:only-of-type {\n",
       "        vertical-align: middle;\n",
       "    }\n",
       "\n",
       "    .dataframe tbody tr th {\n",
       "        vertical-align: top;\n",
       "    }\n",
       "\n",
       "    .dataframe thead th {\n",
       "        text-align: right;\n",
       "    }\n",
       "</style>\n",
       "<table border=\"1\" class=\"dataframe\">\n",
       "  <thead>\n",
       "    <tr style=\"text-align: right;\">\n",
       "      <th></th>\n",
       "      <th>tpep_pickup_datetime</th>\n",
       "      <th>tpep_dropoff_datetime</th>\n",
       "      <th>PULocationID</th>\n",
       "      <th>DOLocationID</th>\n",
       "      <th>passenger_count</th>\n",
       "      <th>trip_distance</th>\n",
       "      <th>pickup_hour</th>\n",
       "      <th>pickup_minute</th>\n",
       "      <th>pickup_weekday</th>\n",
       "      <th>pickup_month</th>\n",
       "      <th>dropoff_hour</th>\n",
       "      <th>dropoff_minute</th>\n",
       "      <th>dropoff_weekday</th>\n",
       "      <th>dropoff_month</th>\n",
       "    </tr>\n",
       "  </thead>\n",
       "  <tbody>\n",
       "    <tr>\n",
       "      <th>0</th>\n",
       "      <td>2020-01-01 00:28:15</td>\n",
       "      <td>2020-01-01 00:33:03</td>\n",
       "      <td>238</td>\n",
       "      <td>239</td>\n",
       "      <td>1.0</td>\n",
       "      <td>1.2</td>\n",
       "      <td>0</td>\n",
       "      <td>28</td>\n",
       "      <td>Wednesday</td>\n",
       "      <td>1</td>\n",
       "      <td>0</td>\n",
       "      <td>33</td>\n",
       "      <td>Wednesday</td>\n",
       "      <td>1</td>\n",
       "    </tr>\n",
       "    <tr>\n",
       "      <th>1</th>\n",
       "      <td>2020-01-01 00:35:39</td>\n",
       "      <td>2020-01-01 00:43:04</td>\n",
       "      <td>239</td>\n",
       "      <td>238</td>\n",
       "      <td>1.0</td>\n",
       "      <td>1.2</td>\n",
       "      <td>0</td>\n",
       "      <td>35</td>\n",
       "      <td>Wednesday</td>\n",
       "      <td>1</td>\n",
       "      <td>0</td>\n",
       "      <td>43</td>\n",
       "      <td>Wednesday</td>\n",
       "      <td>1</td>\n",
       "    </tr>\n",
       "    <tr>\n",
       "      <th>2</th>\n",
       "      <td>2020-01-01 00:47:41</td>\n",
       "      <td>2020-01-01 00:53:52</td>\n",
       "      <td>238</td>\n",
       "      <td>238</td>\n",
       "      <td>1.0</td>\n",
       "      <td>0.6</td>\n",
       "      <td>0</td>\n",
       "      <td>47</td>\n",
       "      <td>Wednesday</td>\n",
       "      <td>1</td>\n",
       "      <td>0</td>\n",
       "      <td>53</td>\n",
       "      <td>Wednesday</td>\n",
       "      <td>1</td>\n",
       "    </tr>\n",
       "    <tr>\n",
       "      <th>3</th>\n",
       "      <td>2020-01-01 00:55:23</td>\n",
       "      <td>2020-01-01 01:00:14</td>\n",
       "      <td>238</td>\n",
       "      <td>151</td>\n",
       "      <td>1.0</td>\n",
       "      <td>0.8</td>\n",
       "      <td>0</td>\n",
       "      <td>55</td>\n",
       "      <td>Wednesday</td>\n",
       "      <td>1</td>\n",
       "      <td>1</td>\n",
       "      <td>0</td>\n",
       "      <td>Wednesday</td>\n",
       "      <td>1</td>\n",
       "    </tr>\n",
       "    <tr>\n",
       "      <th>4</th>\n",
       "      <td>2020-01-01 00:01:58</td>\n",
       "      <td>2020-01-01 00:04:16</td>\n",
       "      <td>193</td>\n",
       "      <td>193</td>\n",
       "      <td>1.0</td>\n",
       "      <td>0.0</td>\n",
       "      <td>0</td>\n",
       "      <td>1</td>\n",
       "      <td>Wednesday</td>\n",
       "      <td>1</td>\n",
       "      <td>0</td>\n",
       "      <td>4</td>\n",
       "      <td>Wednesday</td>\n",
       "      <td>1</td>\n",
       "    </tr>\n",
       "  </tbody>\n",
       "</table>\n",
       "</div>"
      ],
      "text/plain": [
       "  tpep_pickup_datetime tpep_dropoff_datetime  PULocationID  DOLocationID  \\\n",
       "0  2020-01-01 00:28:15   2020-01-01 00:33:03           238           239   \n",
       "1  2020-01-01 00:35:39   2020-01-01 00:43:04           239           238   \n",
       "2  2020-01-01 00:47:41   2020-01-01 00:53:52           238           238   \n",
       "3  2020-01-01 00:55:23   2020-01-01 01:00:14           238           151   \n",
       "4  2020-01-01 00:01:58   2020-01-01 00:04:16           193           193   \n",
       "\n",
       "   passenger_count  trip_distance  pickup_hour  pickup_minute pickup_weekday  \\\n",
       "0              1.0            1.2            0             28      Wednesday   \n",
       "1              1.0            1.2            0             35      Wednesday   \n",
       "2              1.0            0.6            0             47      Wednesday   \n",
       "3              1.0            0.8            0             55      Wednesday   \n",
       "4              1.0            0.0            0              1      Wednesday   \n",
       "\n",
       "   pickup_month  dropoff_hour  dropoff_minute dropoff_weekday  dropoff_month  \n",
       "0             1             0              33       Wednesday              1  \n",
       "1             1             0              43       Wednesday              1  \n",
       "2             1             0              53       Wednesday              1  \n",
       "3             1             1               0       Wednesday              1  \n",
       "4             1             0               4       Wednesday              1  "
      ]
     },
     "execution_count": 25,
     "metadata": {},
     "output_type": "execute_result"
    }
   ],
   "source": [
    "taxi_data.head()"
   ]
  },
  {
   "cell_type": "markdown",
   "id": "4a2ec15f-c495-4f4c-ab21-a6efdfcf03df",
   "metadata": {},
   "source": [
    "## Construct busyness features"
   ]
  },
  {
   "cell_type": "code",
   "execution_count": 26,
   "id": "9e0fe955-37b3-4705-b236-ad198cb2a154",
   "metadata": {},
   "outputs": [],
   "source": [
    "# Aggregate data by hour, minute, weekday and region, and calculate the total number of passengers in each time period and region as a busyness indicator\n",
    "pickup_busy_data = taxi_data.groupby(['pickup_hour', 'pickup_minute', 'pickup_weekday', 'pickup_month', 'PULocationID']).agg({\n",
    "    'passenger_count': 'sum',\n",
    "    # 'trip_distance': 'mean',\n",
    "    # 'trip_duration': 'mean'\n",
    "}).reset_index()"
   ]
  },
  {
   "cell_type": "code",
   "execution_count": 27,
   "id": "35b38340",
   "metadata": {},
   "outputs": [],
   "source": [
    "# Aggregate data by dropoff times and locations\n",
    "dropoff_busy_data = taxi_data.groupby(['dropoff_hour', 'dropoff_minute', 'dropoff_weekday', 'dropoff_month', 'DOLocationID']).agg({\n",
    "    'passenger_count': 'sum'\n",
    "}).reset_index()"
   ]
  },
  {
   "cell_type": "code",
   "execution_count": 28,
   "id": "bde1374b-e8e0-447e-a3be-7ac2ba429e9e",
   "metadata": {},
   "outputs": [],
   "source": [
    "# Rename columns to maintain consistency\n",
    "pickup_busy_data.rename(columns={\n",
    "    'pickup_hour': 'hour', \n",
    "    'pickup_minute': 'minute', \n",
    "    'pickup_weekday': 'weekday', \n",
    "    'pickup_month': 'month', \n",
    "    'PULocationID': 'LocationID', \n",
    "    'passenger_count': 'busy_score'\n",
    "}, inplace=True)\n",
    "\n",
    "dropoff_busy_data.rename(columns={\n",
    "    'dropoff_hour': 'hour', \n",
    "    'dropoff_minute': 'minute', \n",
    "    'dropoff_weekday': 'weekday', \n",
    "    'dropoff_month': 'month', \n",
    "    'DOLocationID': 'LocationID', \n",
    "    'passenger_count': 'busy_score'\n",
    "}, inplace=True)"
   ]
  },
  {
   "cell_type": "code",
   "execution_count": 29,
   "id": "d787e17c",
   "metadata": {},
   "outputs": [],
   "source": [
    "# Combine both datasets and aggregate by hour, minute, weekday, month, and LocationID\n",
    "combined_busy_data = pd.concat([pickup_busy_data, dropoff_busy_data])\n",
    "combined_busy_data = combined_busy_data.groupby(['hour', 'minute', 'weekday', 'month', 'LocationID']).agg({\n",
    "    'busy_score': 'sum'\n",
    "}).reset_index()"
   ]
  },
  {
   "cell_type": "code",
   "execution_count": 30,
   "id": "2e8fe206-ff2e-4d09-b61d-a45993cf3395",
   "metadata": {},
   "outputs": [
    {
     "data": {
      "text/html": [
       "<div>\n",
       "<style scoped>\n",
       "    .dataframe tbody tr th:only-of-type {\n",
       "        vertical-align: middle;\n",
       "    }\n",
       "\n",
       "    .dataframe tbody tr th {\n",
       "        vertical-align: top;\n",
       "    }\n",
       "\n",
       "    .dataframe thead th {\n",
       "        text-align: right;\n",
       "    }\n",
       "</style>\n",
       "<table border=\"1\" class=\"dataframe\">\n",
       "  <thead>\n",
       "    <tr style=\"text-align: right;\">\n",
       "      <th></th>\n",
       "      <th>hour</th>\n",
       "      <th>minute</th>\n",
       "      <th>weekday</th>\n",
       "      <th>month</th>\n",
       "      <th>LocationID</th>\n",
       "      <th>busy_score</th>\n",
       "    </tr>\n",
       "  </thead>\n",
       "  <tbody>\n",
       "    <tr>\n",
       "      <th>0</th>\n",
       "      <td>0</td>\n",
       "      <td>0</td>\n",
       "      <td>Friday</td>\n",
       "      <td>1</td>\n",
       "      <td>1</td>\n",
       "      <td>6.0</td>\n",
       "    </tr>\n",
       "    <tr>\n",
       "      <th>1</th>\n",
       "      <td>0</td>\n",
       "      <td>0</td>\n",
       "      <td>Friday</td>\n",
       "      <td>1</td>\n",
       "      <td>4</td>\n",
       "      <td>9.0</td>\n",
       "    </tr>\n",
       "    <tr>\n",
       "      <th>2</th>\n",
       "      <td>0</td>\n",
       "      <td>0</td>\n",
       "      <td>Friday</td>\n",
       "      <td>1</td>\n",
       "      <td>7</td>\n",
       "      <td>16.0</td>\n",
       "    </tr>\n",
       "    <tr>\n",
       "      <th>3</th>\n",
       "      <td>0</td>\n",
       "      <td>0</td>\n",
       "      <td>Friday</td>\n",
       "      <td>1</td>\n",
       "      <td>10</td>\n",
       "      <td>4.0</td>\n",
       "    </tr>\n",
       "    <tr>\n",
       "      <th>4</th>\n",
       "      <td>0</td>\n",
       "      <td>0</td>\n",
       "      <td>Friday</td>\n",
       "      <td>1</td>\n",
       "      <td>13</td>\n",
       "      <td>5.0</td>\n",
       "    </tr>\n",
       "  </tbody>\n",
       "</table>\n",
       "</div>"
      ],
      "text/plain": [
       "   hour  minute weekday  month  LocationID  busy_score\n",
       "0     0       0  Friday      1           1         6.0\n",
       "1     0       0  Friday      1           4         9.0\n",
       "2     0       0  Friday      1           7        16.0\n",
       "3     0       0  Friday      1          10         4.0\n",
       "4     0       0  Friday      1          13         5.0"
      ]
     },
     "execution_count": 30,
     "metadata": {},
     "output_type": "execute_result"
    }
   ],
   "source": [
    "combined_busy_data.head()"
   ]
  },
  {
   "cell_type": "markdown",
   "id": "337e2de1-0cb8-441b-b986-4411f42b5b5b",
   "metadata": {},
   "source": [
    "## plot"
   ]
  },
  {
   "cell_type": "code",
   "execution_count": 31,
   "id": "2f542c12-7f2a-409e-bb12-d3f8715f1f09",
   "metadata": {},
   "outputs": [
    {
     "data": {
      "image/png": "[encoded data removed]",
      "text/plain": [
       "<Figure size 1000x600 with 1 Axes>"
      ]
     },
     "metadata": {},
     "output_type": "display_data"
    }
   ],
   "source": [
    "# Aggregate data by hour\n",
    "hourly_data = combined_busy_data.groupby('hour')['busy_score'].mean().reset_index()\n",
    "\n",
    "plt.figure(figsize=(10, 6))\n",
    "sns.lineplot(data=hourly_data, x='hour', y='busy_score')\n",
    "plt.title('Average Busy Score by Hour of the Day')\n",
    "plt.xlabel('Hour of the Day')\n",
    "plt.ylabel('Average Busy Score')\n",
    "plt.show()\n"
   ]
  },
  {
   "cell_type": "code",
   "execution_count": 32,
   "id": "e59b10dd",
   "metadata": {},
   "outputs": [
    {
     "data": {
      "image/png": "[encoded data removed]",
      "text/plain": [
       "<Figure size 1000x600 with 1 Axes>"
      ]
     },
     "metadata": {},
     "output_type": "display_data"
    }
   ],
   "source": [
    "# Aggregate data by day of the week\n",
    "weekday_data = combined_busy_data.groupby('weekday')['busy_score'].mean().reindex(['Monday', 'Tuesday', 'Wednesday', 'Thursday', 'Friday', 'Saturday', 'Sunday']).reset_index()\n",
    "\n",
    "plt.figure(figsize=(10, 6))\n",
    "sns.barplot(data=weekday_data, x='weekday', y='busy_score')\n",
    "plt.title('Average Busy Score by Weekday')\n",
    "plt.xlabel('Weekday')\n",
    "plt.ylabel('Average Busy Score')\n",
    "plt.show()"
   ]
  },
  {
   "cell_type": "markdown",
   "id": "828c57ce-e79d-4b55-b0e6-7d0f2bd0c515",
   "metadata": {},
   "source": [
    "## Save as csv"
   ]
  },
  {
   "cell_type": "code",
   "execution_count": 33,
   "id": "aa28ffd0-3e40-481b-bcc2-808e133b9681",
   "metadata": {},
   "outputs": [],
   "source": [
    "combined_busy_data.to_csv('combined_busy_data.csv',index=None)"
   ]
  },
  {
   "cell_type": "markdown",
   "id": "6cc27041-48ce-48f9-a9f0-cab89bfad3bd",
   "metadata": {},
   "source": [
    "## Model Training"
   ]
  },
  {
   "cell_type": "code",
   "execution_count": 34,
   "id": "0b7b7b57-60a3-448d-9319-242fee0a7b90",
   "metadata": {},
   "outputs": [],
   "source": [
    "# Feature selection\n",
    "X = combined_busy_data[['hour', 'minute', 'weekday', 'month', 'LocationID']]\n",
    "y = combined_busy_data['busy_score']"
   ]
  },
  {
   "cell_type": "code",
   "execution_count": 35,
   "id": "252d40f4-8884-48a7-9c8d-98085c9a4bda",
   "metadata": {},
   "outputs": [
    {
     "data": {
      "text/plain": [
       "hour            int32\n",
       "minute          int32\n",
       "weekday        object\n",
       "month           int32\n",
       "LocationID      int64\n",
       "busy_score    float64\n",
       "dtype: object"
      ]
     },
     "execution_count": 35,
     "metadata": {},
     "output_type": "execute_result"
    }
   ],
   "source": [
    "combined_busy_data.dtypes"
   ]
  },
  {
   "cell_type": "code",
   "execution_count": 36,
   "id": "f49f34d7-0bfc-491d-b9ec-30428f4c19e6",
   "metadata": {},
   "outputs": [],
   "source": [
    "# Convert to categorical features\n",
    "X = pd.get_dummies(X, columns=['weekday'])"
   ]
  },
  {
   "cell_type": "code",
   "execution_count": 37,
   "id": "5862e596-7256-4896-90a9-e342686ce928",
   "metadata": {},
   "outputs": [],
   "source": [
    "# Split the dataset\n",
    "X_train, X_test, y_train, y_test = train_test_split(X, y, test_size=0.33, random_state=42)\n",
    "\n"
   ]
  },
  {
   "cell_type": "code",
   "execution_count": 38,
   "id": "ce2c6ccb",
   "metadata": {},
   "outputs": [
    {
     "data": {
      "text/html": [
       "<style>#sk-container-id-1 {\n",
       "  /* Definition of color scheme common for light and dark mode */\n",
       "  --sklearn-color-text: black;\n",
       "  --sklearn-color-line: gray;\n",
       "  /* Definition of color scheme for unfitted estimators */\n",
       "  --sklearn-color-unfitted-level-0: #fff5e6;\n",
       "  --sklearn-color-unfitted-level-1: #f6e4d2;\n",
       "  --sklearn-color-unfitted-level-2: #ffe0b3;\n",
       "  --sklearn-color-unfitted-level-3: chocolate;\n",
       "  /* Definition of color scheme for fitted estimators */\n",
       "  --sklearn-color-fitted-level-0: #f0f8ff;\n",
       "  --sklearn-color-fitted-level-1: #d4ebff;\n",
       "  --sklearn-color-fitted-level-2: #b3dbfd;\n",
       "  --sklearn-color-fitted-level-3: cornflowerblue;\n",
       "\n",
       "  /* Specific color for light theme */\n",
       "  --sklearn-color-text-on-default-background: var(--sg-text-color, var(--theme-code-foreground, var(--jp-content-font-color1, black)));\n",
       "  --sklearn-color-background: var(--sg-background-color, var(--theme-background, var(--jp-layout-color0, white)));\n",
       "  --sklearn-color-border-box: var(--sg-text-color, var(--theme-code-foreground, var(--jp-content-font-color1, black)));\n",
       "  --sklearn-color-icon: #696969;\n",
       "\n",
       "  @media (prefers-color-scheme: dark) {\n",
       "    /* Redefinition of color scheme for dark theme */\n",
       "    --sklearn-color-text-on-default-background: var(--sg-text-color, var(--theme-code-foreground, var(--jp-content-font-color1, white)));\n",
       "    --sklearn-color-background: var(--sg-background-color, var(--theme-background, var(--jp-layout-color0, #111)));\n",
       "    --sklearn-color-border-box: var(--sg-text-color, var(--theme-code-foreground, var(--jp-content-font-color1, white)));\n",
       "    --sklearn-color-icon: #878787;\n",
       "  }\n",
       "}\n",
       "\n",
       "#sk-container-id-1 {\n",
       "  color: var(--sklearn-color-text);\n",
       "}\n",
       "\n",
       "#sk-container-id-1 pre {\n",
       "  padding: 0;\n",
       "}\n",
       "\n",
       "#sk-container-id-1 input.sk-hidden--visually {\n",
       "  border: 0;\n",
       "  clip: rect(1px 1px 1px 1px);\n",
       "  clip: rect(1px, 1px, 1px, 1px);\n",
       "  height: 1px;\n",
       "  margin: -1px;\n",
       "  overflow: hidden;\n",
       "  padding: 0;\n",
       "  position: absolute;\n",
       "  width: 1px;\n",
       "}\n",
       "\n",
       "#sk-container-id-1 div.sk-dashed-wrapped {\n",
       "  border: 1px dashed var(--sklearn-color-line);\n",
       "  margin: 0 0.4em 0.5em 0.4em;\n",
       "  box-sizing: border-box;\n",
       "  padding-bottom: 0.4em;\n",
       "  background-color: var(--sklearn-color-background);\n",
       "}\n",
       "\n",
       "#sk-container-id-1 div.sk-container {\n",
       "  /* jupyter's `normalize.less` sets `[hidden] { display: none; }`\n",
       "     but bootstrap.min.css set `[hidden] { display: none !important; }`\n",
       "     so we also need the `!important` here to be able to override the\n",
       "     default hidden behavior on the sphinx rendered scikit-learn.org.\n",
       "     See: https://github.com/scikit-learn/scikit-learn/issues/21755 */\n",
       "  display: inline-block !important;\n",
       "  position: relative;\n",
       "}\n",
       "\n",
       "#sk-container-id-1 div.sk-text-repr-fallback {\n",
       "  display: none;\n",
       "}\n",
       "\n",
       "div.sk-parallel-item,\n",
       "div.sk-serial,\n",
       "div.sk-item {\n",
       "  /* draw centered vertical line to link estimators */\n",
       "  background-image: linear-gradient(var(--sklearn-color-text-on-default-background), var(--sklearn-color-text-on-default-background));\n",
       "  background-size: 2px 100%;\n",
       "  background-repeat: no-repeat;\n",
       "  background-position: center center;\n",
       "}\n",
       "\n",
       "/* Parallel-specific style estimator block */\n",
       "\n",
       "#sk-container-id-1 div.sk-parallel-item::after {\n",
       "  content: \"\";\n",
       "  width: 100%;\n",
       "  border-bottom: 2px solid var(--sklearn-color-text-on-default-background);\n",
       "  flex-grow: 1;\n",
       "}\n",
       "\n",
       "#sk-container-id-1 div.sk-parallel {\n",
       "  display: flex;\n",
       "  align-items: stretch;\n",
       "  justify-content: center;\n",
       "  background-color: var(--sklearn-color-background);\n",
       "  position: relative;\n",
       "}\n",
       "\n",
       "#sk-container-id-1 div.sk-parallel-item {\n",
       "  display: flex;\n",
       "  flex-direction: column;\n",
       "}\n",
       "\n",
       "#sk-container-id-1 div.sk-parallel-item:first-child::after {\n",
       "  align-self: flex-end;\n",
       "  width: 50%;\n",
       "}\n",
       "\n",
       "#sk-container-id-1 div.sk-parallel-item:last-child::after {\n",
       "  align-self: flex-start;\n",
       "  width: 50%;\n",
       "}\n",
       "\n",
       "#sk-container-id-1 div.sk-parallel-item:only-child::after {\n",
       "  width: 0;\n",
       "}\n",
       "\n",
       "/* Serial-specific style estimator block */\n",
       "\n",
       "#sk-container-id-1 div.sk-serial {\n",
       "  display: flex;\n",
       "  flex-direction: column;\n",
       "  align-items: center;\n",
       "  background-color: var(--sklearn-color-background);\n",
       "  padding-right: 1em;\n",
       "  padding-left: 1em;\n",
       "}\n",
       "\n",
       "\n",
       "/* Toggleable style: style used for estimator/Pipeline/ColumnTransformer box that is\n",
       "clickable and can be expanded/collapsed.\n",
       "- Pipeline and ColumnTransformer use this feature and define the default style\n",
       "- Estimators will overwrite some part of the style using the `sk-estimator` class\n",
       "*/\n",
       "\n",
       "/* Pipeline and ColumnTransformer style (default) */\n",
       "\n",
       "#sk-container-id-1 div.sk-toggleable {\n",
       "  /* Default theme specific background. It is overwritten whether we have a\n",
       "  specific estimator or a Pipeline/ColumnTransformer */\n",
       "  background-color: var(--sklearn-color-background);\n",
       "}\n",
       "\n",
       "/* Toggleable label */\n",
       "#sk-container-id-1 label.sk-toggleable__label {\n",
       "  cursor: pointer;\n",
       "  display: block;\n",
       "  width: 100%;\n",
       "  margin-bottom: 0;\n",
       "  padding: 0.5em;\n",
       "  box-sizing: border-box;\n",
       "  text-align: center;\n",
       "}\n",
       "\n",
       "#sk-container-id-1 label.sk-toggleable__label-arrow:before {\n",
       "  /* Arrow on the left of the label */\n",
       "  content: \"▸\";\n",
       "  float: left;\n",
       "  margin-right: 0.25em;\n",
       "  color: var(--sklearn-color-icon);\n",
       "}\n",
       "\n",
       "#sk-container-id-1 label.sk-toggleable__label-arrow:hover:before {\n",
       "  color: var(--sklearn-color-text);\n",
       "}\n",
       "\n",
       "/* Toggleable content - dropdown */\n",
       "\n",
       "#sk-container-id-1 div.sk-toggleable__content {\n",
       "  max-height: 0;\n",
       "  max-width: 0;\n",
       "  overflow: hidden;\n",
       "  text-align: left;\n",
       "  /* unfitted */\n",
       "  background-color: var(--sklearn-color-unfitted-level-0);\n",
       "}\n",
       "\n",
       "#sk-container-id-1 div.sk-toggleable__content.fitted {\n",
       "  /* fitted */\n",
       "  background-color: var(--sklearn-color-fitted-level-0);\n",
       "}\n",
       "\n",
       "#sk-container-id-1 div.sk-toggleable__content pre {\n",
       "  margin: 0.2em;\n",
       "  border-radius: 0.25em;\n",
       "  color: var(--sklearn-color-text);\n",
       "  /* unfitted */\n",
       "  background-color: var(--sklearn-color-unfitted-level-0);\n",
       "}\n",
       "\n",
       "#sk-container-id-1 div.sk-toggleable__content.fitted pre {\n",
       "  /* unfitted */\n",
       "  background-color: var(--sklearn-color-fitted-level-0);\n",
       "}\n",
       "\n",
       "#sk-container-id-1 input.sk-toggleable__control:checked~div.sk-toggleable__content {\n",
       "  /* Expand drop-down */\n",
       "  max-height: 200px;\n",
       "  max-width: 100%;\n",
       "  overflow: auto;\n",
       "}\n",
       "\n",
       "#sk-container-id-1 input.sk-toggleable__control:checked~label.sk-toggleable__label-arrow:before {\n",
       "  content: \"▾\";\n",
       "}\n",
       "\n",
       "/* Pipeline/ColumnTransformer-specific style */\n",
       "\n",
       "#sk-container-id-1 div.sk-label input.sk-toggleable__control:checked~label.sk-toggleable__label {\n",
       "  color: var(--sklearn-color-text);\n",
       "  background-color: var(--sklearn-color-unfitted-level-2);\n",
       "}\n",
       "\n",
       "#sk-container-id-1 div.sk-label.fitted input.sk-toggleable__control:checked~label.sk-toggleable__label {\n",
       "  background-color: var(--sklearn-color-fitted-level-2);\n",
       "}\n",
       "\n",
       "/* Estimator-specific style */\n",
       "\n",
       "/* Colorize estimator box */\n",
       "#sk-container-id-1 div.sk-estimator input.sk-toggleable__control:checked~label.sk-toggleable__label {\n",
       "  /* unfitted */\n",
       "  background-color: var(--sklearn-color-unfitted-level-2);\n",
       "}\n",
       "\n",
       "#sk-container-id-1 div.sk-estimator.fitted input.sk-toggleable__control:checked~label.sk-toggleable__label {\n",
       "  /* fitted */\n",
       "  background-color: var(--sklearn-color-fitted-level-2);\n",
       "}\n",
       "\n",
       "#sk-container-id-1 div.sk-label label.sk-toggleable__label,\n",
       "#sk-container-id-1 div.sk-label label {\n",
       "  /* The background is the default theme color */\n",
       "  color: var(--sklearn-color-text-on-default-background);\n",
       "}\n",
       "\n",
       "/* On hover, darken the color of the background */\n",
       "#sk-container-id-1 div.sk-label:hover label.sk-toggleable__label {\n",
       "  color: var(--sklearn-color-text);\n",
       "  background-color: var(--sklearn-color-unfitted-level-2);\n",
       "}\n",
       "\n",
       "/* Label box, darken color on hover, fitted */\n",
       "#sk-container-id-1 div.sk-label.fitted:hover label.sk-toggleable__label.fitted {\n",
       "  color: var(--sklearn-color-text);\n",
       "  background-color: var(--sklearn-color-fitted-level-2);\n",
       "}\n",
       "\n",
       "/* Estimator label */\n",
       "\n",
       "#sk-container-id-1 div.sk-label label {\n",
       "  font-family: monospace;\n",
       "  font-weight: bold;\n",
       "  display: inline-block;\n",
       "  line-height: 1.2em;\n",
       "}\n",
       "\n",
       "#sk-container-id-1 div.sk-label-container {\n",
       "  text-align: center;\n",
       "}\n",
       "\n",
       "/* Estimator-specific */\n",
       "#sk-container-id-1 div.sk-estimator {\n",
       "  font-family: monospace;\n",
       "  border: 1px dotted var(--sklearn-color-border-box);\n",
       "  border-radius: 0.25em;\n",
       "  box-sizing: border-box;\n",
       "  margin-bottom: 0.5em;\n",
       "  /* unfitted */\n",
       "  background-color: var(--sklearn-color-unfitted-level-0);\n",
       "}\n",
       "\n",
       "#sk-container-id-1 div.sk-estimator.fitted {\n",
       "  /* fitted */\n",
       "  background-color: var(--sklearn-color-fitted-level-0);\n",
       "}\n",
       "\n",
       "/* on hover */\n",
       "#sk-container-id-1 div.sk-estimator:hover {\n",
       "  /* unfitted */\n",
       "  background-color: var(--sklearn-color-unfitted-level-2);\n",
       "}\n",
       "\n",
       "#sk-container-id-1 div.sk-estimator.fitted:hover {\n",
       "  /* fitted */\n",
       "  background-color: var(--sklearn-color-fitted-level-2);\n",
       "}\n",
       "\n",
       "/* Specification for estimator info (e.g. \"i\" and \"?\") */\n",
       "\n",
       "/* Common style for \"i\" and \"?\" */\n",
       "\n",
       ".sk-estimator-doc-link,\n",
       "a:link.sk-estimator-doc-link,\n",
       "a:visited.sk-estimator-doc-link {\n",
       "  float: right;\n",
       "  font-size: smaller;\n",
       "  line-height: 1em;\n",
       "  font-family: monospace;\n",
       "  background-color: var(--sklearn-color-background);\n",
       "  border-radius: 1em;\n",
       "  height: 1em;\n",
       "  width: 1em;\n",
       "  text-decoration: none !important;\n",
       "  margin-left: 1ex;\n",
       "  /* unfitted */\n",
       "  border: var(--sklearn-color-unfitted-level-1) 1pt solid;\n",
       "  color: var(--sklearn-color-unfitted-level-1);\n",
       "}\n",
       "\n",
       ".sk-estimator-doc-link.fitted,\n",
       "a:link.sk-estimator-doc-link.fitted,\n",
       "a:visited.sk-estimator-doc-link.fitted {\n",
       "  /* fitted */\n",
       "  border: var(--sklearn-color-fitted-level-1) 1pt solid;\n",
       "  color: var(--sklearn-color-fitted-level-1);\n",
       "}\n",
       "\n",
       "/* On hover */\n",
       "div.sk-estimator:hover .sk-estimator-doc-link:hover,\n",
       ".sk-estimator-doc-link:hover,\n",
       "div.sk-label-container:hover .sk-estimator-doc-link:hover,\n",
       ".sk-estimator-doc-link:hover {\n",
       "  /* unfitted */\n",
       "  background-color: var(--sklearn-color-unfitted-level-3);\n",
       "  color: var(--sklearn-color-background);\n",
       "  text-decoration: none;\n",
       "}\n",
       "\n",
       "div.sk-estimator.fitted:hover .sk-estimator-doc-link.fitted:hover,\n",
       ".sk-estimator-doc-link.fitted:hover,\n",
       "div.sk-label-container:hover .sk-estimator-doc-link.fitted:hover,\n",
       ".sk-estimator-doc-link.fitted:hover {\n",
       "  /* fitted */\n",
       "  background-color: var(--sklearn-color-fitted-level-3);\n",
       "  color: var(--sklearn-color-background);\n",
       "  text-decoration: none;\n",
       "}\n",
       "\n",
       "/* Span, style for the box shown on hovering the info icon */\n",
       ".sk-estimator-doc-link span {\n",
       "  display: none;\n",
       "  z-index: 9999;\n",
       "  position: relative;\n",
       "  font-weight: normal;\n",
       "  right: .2ex;\n",
       "  padding: .5ex;\n",
       "  margin: .5ex;\n",
       "  width: min-content;\n",
       "  min-width: 20ex;\n",
       "  max-width: 50ex;\n",
       "  color: var(--sklearn-color-text);\n",
       "  box-shadow: 2pt 2pt 4pt #999;\n",
       "  /* unfitted */\n",
       "  background: var(--sklearn-color-unfitted-level-0);\n",
       "  border: .5pt solid var(--sklearn-color-unfitted-level-3);\n",
       "}\n",
       "\n",
       ".sk-estimator-doc-link.fitted span {\n",
       "  /* fitted */\n",
       "  background: var(--sklearn-color-fitted-level-0);\n",
       "  border: var(--sklearn-color-fitted-level-3);\n",
       "}\n",
       "\n",
       ".sk-estimator-doc-link:hover span {\n",
       "  display: block;\n",
       "}\n",
       "\n",
       "/* \"?\"-specific style due to the `<a>` HTML tag */\n",
       "\n",
       "#sk-container-id-1 a.estimator_doc_link {\n",
       "  float: right;\n",
       "  font-size: 1rem;\n",
       "  line-height: 1em;\n",
       "  font-family: monospace;\n",
       "  background-color: var(--sklearn-color-background);\n",
       "  border-radius: 1rem;\n",
       "  height: 1rem;\n",
       "  width: 1rem;\n",
       "  text-decoration: none;\n",
       "  /* unfitted */\n",
       "  color: var(--sklearn-color-unfitted-level-1);\n",
       "  border: var(--sklearn-color-unfitted-level-1) 1pt solid;\n",
       "}\n",
       "\n",
       "#sk-container-id-1 a.estimator_doc_link.fitted {\n",
       "  /* fitted */\n",
       "  border: var(--sklearn-color-fitted-level-1) 1pt solid;\n",
       "  color: var(--sklearn-color-fitted-level-1);\n",
       "}\n",
       "\n",
       "/* On hover */\n",
       "#sk-container-id-1 a.estimator_doc_link:hover {\n",
       "  /* unfitted */\n",
       "  background-color: var(--sklearn-color-unfitted-level-3);\n",
       "  color: var(--sklearn-color-background);\n",
       "  text-decoration: none;\n",
       "}\n",
       "\n",
       "#sk-container-id-1 a.estimator_doc_link.fitted:hover {\n",
       "  /* fitted */\n",
       "  background-color: var(--sklearn-color-fitted-level-3);\n",
       "}\n",
       "</style><div id=\"sk-container-id-1\" class=\"sk-top-container\"><div class=\"sk-text-repr-fallback\"><pre>RandomForestRegressor(random_state=42)</pre><b>In a Jupyter environment, please rerun this cell to show the HTML representation or trust the notebook. <br />On GitHub, the HTML representation is unable to render, please try loading this page with nbviewer.org.</b></div><div class=\"sk-container\" hidden><div class=\"sk-item\"><div class=\"sk-estimator fitted sk-toggleable\"><input class=\"sk-toggleable__control sk-hidden--visually\" id=\"sk-estimator-id-1\" type=\"checkbox\" checked><label for=\"sk-estimator-id-1\" class=\"sk-toggleable__label fitted sk-toggleable__label-arrow fitted\">&nbsp;&nbsp;RandomForestRegressor<a class=\"sk-estimator-doc-link fitted\" rel=\"noreferrer\" target=\"_blank\" href=\"https://scikit-learn.org/1.4/modules/generated/sklearn.ensemble.RandomForestRegressor.html\">?<span>Documentation for RandomForestRegressor</span></a><span class=\"sk-estimator-doc-link fitted\">i<span>Fitted</span></span></label><div class=\"sk-toggleable__content fitted\"><pre>RandomForestRegressor(random_state=42)</pre></div> </div></div></div></div>"
      ],
      "text/plain": [
       "RandomForestRegressor(random_state=42)"
      ]
     },
     "execution_count": 38,
     "metadata": {},
     "output_type": "execute_result"
    }
   ],
   "source": [
    "model = RandomForestRegressor(n_estimators=100, random_state=42)\n",
    "model.fit(X_train, y_train)"
   ]
  },
  {
   "cell_type": "markdown",
   "id": "a4def080-3476-4bec-bddc-d6a5fc664abc",
   "metadata": {},
   "source": [
    "## Model test"
   ]
  },
  {
   "cell_type": "code",
   "execution_count": 39,
   "id": "c0b28bbd-2775-41a7-a19d-bd6f27067d46",
   "metadata": {},
   "outputs": [],
   "source": [
    "y_pred = model.predict(X_test)"
   ]
  },
  {
   "cell_type": "code",
   "execution_count": 40,
   "id": "b7531c74-47ff-4e9b-a294-905c16ed944c",
   "metadata": {},
   "outputs": [
    {
     "name": "stdout",
     "output_type": "stream",
     "text": [
      "         Actual Busy Score  Predicted Busy Score\n",
      "6441693                1.0                  1.84\n",
      "6324224                3.0                  2.57\n",
      "6682142                4.0                  2.62\n",
      "2883037                3.0                  2.22\n",
      "4615394               10.0                 11.56\n"
     ]
    }
   ],
   "source": [
    "# Output actual busyness and predicted value\n",
    "results = pd.DataFrame({'Actual Busy Score': y_test, 'Predicted Busy Score': y_pred})\n",
    "print(results.head())"
   ]
  },
  {
   "cell_type": "code",
   "execution_count": 41,
   "id": "ffd17ca6-9e6f-4ed3-beb8-acefd184bdf2",
   "metadata": {},
   "outputs": [
    {
     "data": {
      "image/png": "[encoded data removed]",
      "text/plain": [
       "<Figure size 1000x600 with 1 Axes>"
      ]
     },
     "metadata": {},
     "output_type": "display_data"
    }
   ],
   "source": [
    "# Draw a comparison chart of actual values ​​and predicted values\n",
    "plt.figure(figsize=(10, 6))\n",
    "plt.plot(results['Actual Busy Score'].values, label='Actual Busy Score', color='b')\n",
    "plt.plot(results['Predicted Busy Score'].values, label='Predicted Busy Score', color='r')\n",
    "plt.title('Actual vs Predicted Busy Score')\n",
    "plt.xlabel('Sample Index')\n",
    "plt.ylabel('Busy Score')\n",
    "plt.legend()\n",
    "plt.show()"
   ]
  },
  {
   "cell_type": "markdown",
   "id": "f591343c-2556-49d6-8a69-d6b6807cd927",
   "metadata": {},
   "source": [
    "## Model Evaluation"
   ]
  },
  {
   "cell_type": "code",
   "execution_count": 42,
   "id": "3f301342-de38-4f90-9e03-fd2b4c64f2c1",
   "metadata": {},
   "outputs": [
    {
     "name": "stdout",
     "output_type": "stream",
     "text": [
      "Mean Absolute Error (MAE): 2.408992343746648\n",
      "Mean Squared Error (MSE): 16.44296848860946\n",
      "Root Mean Squared Error (RMSE): 4.0549930318817395\n",
      "R^2 Score: 0.9197029029712157\n"
     ]
    }
   ],
   "source": [
    "mse = mean_squared_error(y_test, y_pred)\n",
    "mae = mean_absolute_error(y_test, y_pred)\n",
    "rmse = np.sqrt(mse)\n",
    "r2 = r2_score(y_test, y_pred)\n",
    "\n",
    "print(f'Mean Absolute Error (MAE): {mae}')\n",
    "print(f'Mean Squared Error (MSE): {mse}')\n",
    "print(f'Root Mean Squared Error (RMSE): {rmse}')\n",
    "print(f'R^2 Score: {r2}')"
   ]
  },
  {
   "cell_type": "markdown",
   "id": "02754503",
   "metadata": {},
   "source": [
    "## export and generate pickcle file"
   ]
  },
  {
   "cell_type": "code",
   "execution_count": 43,
   "id": "d150f9a5",
   "metadata": {},
   "outputs": [],
   "source": [
    "import pickle\n",
    "\n",
    "# Save the model\n",
    "with open('model.pkl', 'wb') as handle:\n",
    "    pickle.dump(model, handle, pickle.HIGHEST_PROTOCOL)"
   ]
  }
 ],
 "metadata": {
  "kernelspec": {
   "display_name": "Python 3 (ipykernel)",
   "language": "python",
   "name": "python3"
  },
  "language_info": {
   "codemirror_mode": {
    "name": "ipython",
    "version": 3
   },
   "file_extension": ".py",
   "mimetype": "text/x-python",
   "name": "python",
   "nbconvert_exporter": "python",
   "pygments_lexer": "ipython3",
   "version": "3.11.5"
  }
 },
 "nbformat": 4,
 "nbformat_minor": 5
}
